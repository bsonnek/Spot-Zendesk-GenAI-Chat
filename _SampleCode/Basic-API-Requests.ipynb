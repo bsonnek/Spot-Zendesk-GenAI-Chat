{
 "cells": [
  {
   "cell_type": "code",
   "execution_count": null,
   "metadata": {},
   "outputs": [],
   "source": [
    "## Azure API Management Authentication Header Example - Working \n",
    "\n",
    "import os\n",
    "\n",
    "\n",
    "api_type_var = os.environ.get(\"AZURE_OPENAI_API_TYPE\")\n",
    "api_base_var = os.environ.get(\"AZURE_OPENAI_ENDPOINT\")\n",
    "api_version_var = os.environ.get(\"AZURE_OPENAI_API_VERSION\")\n",
    "api_key_var = os.getenv(\"AZURE_OPENAI_API_KEY\")\n",
    "api_chat_model_var = os.getenv(\"AZURE_OPENAI_CHAT_MODEL\")\n",
    "import requests\n",
    "\n",
    "# Set your OpenAI API key\n",
    "headers = {\n",
    "    'Content-Type': 'application/json',\n",
    "    'api-key': api_key_var\n",
    "}\n",
    "\n",
    "\n",
    "# Define your API endpoint\n",
    "url = f\"{api_base_var}openai/deployments/{api_chat_model_var}/chat/completions?api-version={api_version_var}\"\n",
    "print(url)\n",
    "\n",
    "\n",
    "# Define your request payload\n",
    "data = {\n",
    "    \"messages\" : [\n",
    "        {\"role\":\"system\",\"content\":\"You are an AI joke telling comedian that generates random jokes about office cubicles.\"},\n",
    "        {\"role\":\"user\",\"content\":\"Tell me a short joke\"}\n",
    "        ],\n",
    "    \"max_tokens\": 800,\n",
    "    \"temperature\": 0.7\n",
    "}\n",
    "\n",
    "# Call the OpenAI API\n",
    "response = requests.post(url, headers=headers, json=data)\n",
    "print(response)\n",
    "# Extract the generated text from the response\n",
    "generated_text = response.json()['choices'][0]['message']['content']\n",
    "\n",
    "# Print the generated text\n",
    "print(generated_text)"
   ]
  }
 ],
 "metadata": {
  "kernelspec": {
   "display_name": "Python 3",
   "language": "python",
   "name": "python3"
  },
  "language_info": {
   "codemirror_mode": {
    "name": "ipython",
    "version": 3
   },
   "file_extension": ".py",
   "mimetype": "text/x-python",
   "name": "python",
   "nbconvert_exporter": "python",
   "pygments_lexer": "ipython3",
   "version": "3.9.2"
  },
  "orig_nbformat": 4
 },
 "nbformat": 4,
 "nbformat_minor": 2
}
