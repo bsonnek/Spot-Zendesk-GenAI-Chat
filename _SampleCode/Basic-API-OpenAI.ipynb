{
 "cells": [
  {
   "cell_type": "code",
   "execution_count": 1,
   "metadata": {},
   "outputs": [
    {
     "name": "stdout",
     "output_type": "stream",
     "text": [
      "Why did the office cubicle go to therapy? \n",
      "\n",
      "Because it felt boxed in!\n",
      "----------------------------------------------------------\n",
      "      \n",
      "      \n",
      "{\n",
      "  \"id\": \"chatcmpl-7wbeOrYHF0Oyy8sMEZ2U9lAILe7Mp\",\n",
      "  \"object\": \"chat.completion\",\n",
      "  \"created\": 1694202108,\n",
      "  \"model\": \"gpt-35-turbo\",\n",
      "  \"choices\": [\n",
      "    {\n",
      "      \"index\": 0,\n",
      "      \"finish_reason\": \"stop\",\n",
      "      \"message\": {\n",
      "        \"role\": \"assistant\",\n",
      "        \"content\": \"Why did the office cubicle go to therapy? \\n\\nBecause it felt boxed in!\"\n",
      "      }\n",
      "    }\n",
      "  ],\n",
      "  \"usage\": {\n",
      "    \"completion_tokens\": 17,\n",
      "    \"prompt_tokens\": 32,\n",
      "    \"total_tokens\": 49\n",
      "  }\n",
      "}\n"
     ]
    }
   ],
   "source": [
    "## Sample API Request Using the OpenAI Python Library\n",
    "\n",
    "import os\n",
    "import openai\n",
    "\n",
    "openai.api_type = os.environ.get(\"AZURE_OPENAI_API_TYPE\")\n",
    "openai.api_base = os.environ.get(\"AZURE_OPENAI_ENDPOINT\")\n",
    "openai.api_version = os.environ.get(\"AZURE_OPENAI_API_VERSION\")\n",
    "openai.api_key = os.getenv(\"AZURE_OPENAI_API_KEY\")\n",
    "\n",
    "response = openai.ChatCompletion.create(\n",
    "  engine=\"gpt-35-turbo\",\n",
    "  messages = [{\"role\":\"system\",\"content\":\"You are an AI joke telling comedian that generates random jokes about office cubicles.\"},{\"role\":\"user\",\"content\":\"Tell me a short joke\"}],\n",
    "  temperature=1,\n",
    "  max_tokens=400,\n",
    "  top_p=0.95,\n",
    "  frequency_penalty=0,\n",
    "  presence_penalty=0,\n",
    "  stop=None)\n",
    "\n",
    "\n",
    "# Print content\n",
    "#print(response)\n",
    "print(response['choices'][0]['message']['content'])\n",
    "print(\"\"\"----------------------------------------------------------\n",
    "      \n",
    "      \"\"\")\n",
    "print(response)"
   ]
  }
 ],
 "metadata": {
  "kernelspec": {
   "display_name": "Python 3",
   "language": "python",
   "name": "python3"
  },
  "language_info": {
   "codemirror_mode": {
    "name": "ipython",
    "version": 3
   },
   "file_extension": ".py",
   "mimetype": "text/x-python",
   "name": "python",
   "nbconvert_exporter": "python",
   "pygments_lexer": "ipython3",
   "version": "3.9.2"
  },
  "orig_nbformat": 4
 },
 "nbformat": 4,
 "nbformat_minor": 2
}
